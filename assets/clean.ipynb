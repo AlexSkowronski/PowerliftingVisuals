{
 "cells": [
  {
   "cell_type": "code",
   "execution_count": 76,
   "metadata": {},
   "outputs": [],
   "source": [
    "import pandas as pd\n",
    "import numpy as np\n",
    "from extract import *"
   ]
  },
  {
   "cell_type": "code",
   "execution_count": 77,
   "metadata": {},
   "outputs": [],
   "source": [
    "from clean import *"
   ]
  },
  {
   "cell_type": "code",
   "execution_count": 78,
   "metadata": {},
   "outputs": [
    {
     "name": "stderr",
     "output_type": "stream",
     "text": [
      "/var/folders/tn/my7fmgyj3gx8811h_mwsw1mh0000gn/T/ipykernel_7788/987062614.py:3: DtypeWarning: Columns (33,35,38) have mixed types. Specify dtype option on import or set low_memory=False.\n",
      "  df = pd.read_csv(extract_dataset(ADDRESS))\n"
     ]
    }
   ],
   "source": [
    "ADDRESS = \"https://openpowerlifting.gitlab.io/opl-csv/files/openpowerlifting-latest.zip\"\n",
    "\n",
    "df = pd.read_csv(extract_dataset(ADDRESS))"
   ]
  },
  {
   "cell_type": "code",
   "execution_count": 79,
   "metadata": {},
   "outputs": [
    {
     "name": "stderr",
     "output_type": "stream",
     "text": [
      "/Users/wlodarczyk/PROJECTS/PowerliftingVisuals/assets/clean.py:34: SettingWithCopyWarning: \n",
      "A value is trying to be set on a copy of a slice from a DataFrame.\n",
      "Try using .loc[row_indexer,col_indexer] = value instead\n",
      "\n",
      "See the caveats in the documentation: https://pandas.pydata.org/pandas-docs/stable/user_guide/indexing.html#returning-a-view-versus-a-copy\n",
      "  df[\"ValidComp\"] = df.apply(lambda row: True if (str.isdigit(row[\"Place\"]) and row[\"TotalKg\"] != 0) else False, axis=1)\n"
     ]
    }
   ],
   "source": [
    "# Fix Lift data\n",
    "\"\"\"Fill in null data for non-completed lifts for all attempts of all lifts\"\"\"\n",
    "replace_lift_null_data(df)\n",
    "\n",
    "\"\"\"Properly returns best lift for each respective lift\"\"\"\n",
    "checks_best_lift(df)\n",
    "\n",
    "\"\"\"Calculates total for all three lifts\"\"\"\n",
    "calculate_total(df)\n",
    "\n",
    "\"\"\"Returns boolean for new column: 'ValidComp' if non-zero total and qualified i.e. no disqualifications, not showing up, failing all lifts, etc.\"\"\"\n",
    "df = validate_comp(df)"
   ]
  },
  {
   "cell_type": "code",
   "execution_count": 80,
   "metadata": {},
   "outputs": [
    {
     "name": "stderr",
     "output_type": "stream",
     "text": [
      "/Users/wlodarczyk/PROJECTS/PowerliftingVisuals/assets/clean.py:93: SettingWithCopyWarning: \n",
      "A value is trying to be set on a copy of a slice from a DataFrame.\n",
      "Try using .loc[row_indexer,col_indexer] = value instead\n",
      "\n",
      "See the caveats in the documentation: https://pandas.pydata.org/pandas-docs/stable/user_guide/indexing.html#returning-a-view-versus-a-copy\n",
      "  df_female[\"IPFWeightClassKg\"] = pd.cut(df_female[\"IPFWeightClassKg\"], bins = F_bins, labels = F_labels)\n",
      "/Users/wlodarczyk/PROJECTS/PowerliftingVisuals/assets/clean.py:94: SettingWithCopyWarning: \n",
      "A value is trying to be set on a copy of a slice from a DataFrame.\n",
      "Try using .loc[row_indexer,col_indexer] = value instead\n",
      "\n",
      "See the caveats in the documentation: https://pandas.pydata.org/pandas-docs/stable/user_guide/indexing.html#returning-a-view-versus-a-copy\n",
      "  df_male['IPFWeightClassKg'] = pd.cut(df_male['IPFWeightClassKg'], bins = M_bins, labels = M_labels)\n"
     ]
    }
   ],
   "source": [
    "# Fix Weight data\n",
    "\"\"\"Removes rows where no WeightClass nor Bodyweight are available\"\"\"\n",
    "df = drop_null_weights(df)\n",
    "\n",
    "\"\"\"Fixes all entries where WeightClass was simply a '+', takes bodyweight and uses that as the weight class\"\"\"\n",
    "fix_plus_weightclass(df)\n",
    "\n",
    "\"\"\"Created IPF Weight Class, takes WeightClass entry and removes any plus signs, assigns them into bins according to IPF weight classes\"\"\"\n",
    "df = redefine_weight_classes(df)"
   ]
  },
  {
   "cell_type": "code",
   "execution_count": 81,
   "metadata": {},
   "outputs": [],
   "source": [
    "# Fix testing, metric and federation data\n",
    "\"\"\"If null values False, if Yes gives True\"\"\"\n",
    "assume_untested(df)\n",
    "\n",
    "\"\"\"Fill columns with no entry with placeholder\"\"\"\n",
    "fill_unknown_values(df)\n",
    "\n",
    "\"\"\"For lifters with no parent federation, assume federation they belong to is the parent federation\"\"\"\n",
    "assume_federation(df)\n",
    "\n",
    "\"\"\"All metrics with null values, taken to be zero\"\"\"\n",
    "fill_lift_scores(df)"
   ]
  },
  {
   "cell_type": "code",
   "execution_count": 93,
   "metadata": {},
   "outputs": [],
   "source": [
    "def rename_entries(df):\n",
    "    df[\"AgeClass\"] = df[\"AgeClass\"].apply(lambda row: \"80+\" if row == \"80-999\" else row)\n",
    "    df[\"BirthYearClass\"] = df[\"BirthYearClass\"].apply(lambda row: \"70+\" if row == \"70-999\" else row)\n",
    "    return df"
   ]
  },
  {
   "cell_type": "code",
   "execution_count": 98,
   "metadata": {},
   "outputs": [],
   "source": [
    "def discard_empty_ages(df):\n",
    "    df = df.loc[~((df[\"Age\"].isna()) & (df[\"AgeClass\"].isna()) & (df[\"BirthYearClass\"].isna()))]\n",
    "    df = df[~((df[\"Age\"].notna()) & (df[\"AgeClass\"].isna()))]\n",
    "    return df"
   ]
  },
  {
   "cell_type": "code",
   "execution_count": 99,
   "metadata": {},
   "outputs": [
    {
     "name": "stderr",
     "output_type": "stream",
     "text": [
      "/var/folders/tn/my7fmgyj3gx8811h_mwsw1mh0000gn/T/ipykernel_7788/1031723635.py:2: SettingWithCopyWarning: \n",
      "A value is trying to be set on a copy of a slice from a DataFrame.\n",
      "Try using .loc[row_indexer,col_indexer] = value instead\n",
      "\n",
      "See the caveats in the documentation: https://pandas.pydata.org/pandas-docs/stable/user_guide/indexing.html#returning-a-view-versus-a-copy\n",
      "  df[\"AgeClass\"] = df[\"AgeClass\"].apply(lambda row: \"80+\" if row == \"80-999\" else row)\n",
      "/var/folders/tn/my7fmgyj3gx8811h_mwsw1mh0000gn/T/ipykernel_7788/1031723635.py:3: SettingWithCopyWarning: \n",
      "A value is trying to be set on a copy of a slice from a DataFrame.\n",
      "Try using .loc[row_indexer,col_indexer] = value instead\n",
      "\n",
      "See the caveats in the documentation: https://pandas.pydata.org/pandas-docs/stable/user_guide/indexing.html#returning-a-view-versus-a-copy\n",
      "  df[\"BirthYearClass\"] = df[\"BirthYearClass\"].apply(lambda row: \"70+\" if row == \"70-999\" else row)\n"
     ]
    }
   ],
   "source": [
    "df = rename_entries(df)\n",
    "\n",
    "df = discard_empty_ages(df)"
   ]
  },
  {
   "cell_type": "code",
   "execution_count": 113,
   "metadata": {},
   "outputs": [
    {
     "name": "stdout",
     "output_type": "stream",
     "text": [
      "<class 'pandas.core.frame.DataFrame'>\n",
      "Int64Index: 1755176 entries, 0 to 2875722\n",
      "Data columns (total 20 columns):\n",
      " #   Column            Non-Null Count    Dtype  \n",
      "---  ------            --------------    -----  \n",
      " 0   Best3DeadliftKg   1755176 non-null  float64\n",
      " 1   TotalKg           1755176 non-null  float64\n",
      " 2   Place             1755176 non-null  object \n",
      " 3   Dots              1755176 non-null  float64\n",
      " 4   Wilks             1755176 non-null  float64\n",
      " 5   Glossbrenner      1755176 non-null  float64\n",
      " 6   Goodlift          1755176 non-null  float64\n",
      " 7   Tested            1755176 non-null  bool   \n",
      " 8   Country           1755176 non-null  object \n",
      " 9   State             1755176 non-null  object \n",
      " 10  Federation        1755176 non-null  object \n",
      " 11  ParentFederation  1755176 non-null  object \n",
      " 12  Date              1755176 non-null  object \n",
      " 13  MeetCountry       1755176 non-null  object \n",
      " 14  MeetState         1755176 non-null  object \n",
      " 15  MeetTown          1755176 non-null  object \n",
      " 16  MeetName          1755176 non-null  object \n",
      " 17  ValidComp         1755176 non-null  bool   \n",
      " 18  IPFWeightClassKg  1755176 non-null  object \n",
      " 19  IPFAgeClass       1755176 non-null  object \n",
      "dtypes: bool(2), float64(6), object(12)\n",
      "memory usage: 257.8+ MB\n"
     ]
    }
   ],
   "source": [
    "df.iloc[:,24:].info(verbose=True, show_counts=True)"
   ]
  },
  {
   "cell_type": "code",
   "execution_count": 103,
   "metadata": {},
   "outputs": [],
   "source": [
    "df = df.dropna()"
   ]
  },
  {
   "cell_type": "code",
   "execution_count": 108,
   "metadata": {},
   "outputs": [
    {
     "data": {
      "text/plain": [
       "array(['24-34', '40-44', '18-19', '16-17', '35-39', '45-49', '70-74',\n",
       "       '55-59', '20-23', '50-54', '13-15', '60-64', '65-69', '75-79',\n",
       "       '80+'], dtype=object)"
      ]
     },
     "execution_count": 108,
     "metadata": {},
     "output_type": "execute_result"
    }
   ],
   "source": [
    "df[\"AgeClass\"].unique()"
   ]
  },
  {
   "cell_type": "code",
   "execution_count": 109,
   "metadata": {},
   "outputs": [],
   "source": [
    "def redefine_age_classes(df):\n",
    "    class_conversion = {\n",
    "        \"5-12\": \"-18\", \"13-15\": \"-18\", \"16-17\": \"-18\",\n",
    "        \"18-19\": \"19-23\", \"20-23\": \"19-23\",\n",
    "        \"24-34\": \"24-39\", \"35-39\": \"24-39\",\n",
    "        \"40-44\": \"40-49\", \"45-49\": \"40-49\",\n",
    "        \"50-54\": \"50-59\", \"55-59\": \"50-59\",\n",
    "        \"60-64\": \"60-69\", \"65-69\": \"60-69\",\n",
    "        \"70-74\": \"70+\", \"75-79\": \"70+\", \"80+\": \"70+\"\n",
    "    }\n",
    "    df[\"IPFAgeClass\"] = df[\"AgeClass\"].apply(lambda row: class_conversion[row] if type(row) == str else \"Unavailable\")\n",
    "    pass"
   ]
  },
  {
   "cell_type": "code",
   "execution_count": 110,
   "metadata": {},
   "outputs": [],
   "source": [
    "redefine_age_classes(df)"
   ]
  },
  {
   "cell_type": "code",
   "execution_count": 112,
   "metadata": {},
   "outputs": [
    {
     "data": {
      "text/plain": [
       "array(['24-39', '40-49', '19-23', '-18', '70+', '50-59', '60-69'],\n",
       "      dtype=object)"
      ]
     },
     "execution_count": 112,
     "metadata": {},
     "output_type": "execute_result"
    }
   ],
   "source": [
    "df[\"IPFAgeClass\"].unique()"
   ]
  },
  {
   "cell_type": "code",
   "execution_count": null,
   "metadata": {},
   "outputs": [],
   "source": []
  }
 ],
 "metadata": {
  "kernelspec": {
   "display_name": "Python 3.10.8 64-bit",
   "language": "python",
   "name": "python3"
  },
  "language_info": {
   "codemirror_mode": {
    "name": "ipython",
    "version": 3
   },
   "file_extension": ".py",
   "mimetype": "text/x-python",
   "name": "python",
   "nbconvert_exporter": "python",
   "pygments_lexer": "ipython3",
   "version": "3.10.8"
  },
  "orig_nbformat": 4,
  "vscode": {
   "interpreter": {
    "hash": "b0fa6594d8f4cbf19f97940f81e996739fb7646882a419484c72d19e05852a7e"
   }
  }
 },
 "nbformat": 4,
 "nbformat_minor": 2
}
