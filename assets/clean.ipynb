{
 "cells": [
  {
   "cell_type": "code",
   "execution_count": 263,
   "metadata": {},
   "outputs": [],
   "source": [
    "from extract import extract_dataset\n",
    "import pandas as pd\n",
    "from clean import *\n",
    "import numpy as np"
   ]
  },
  {
   "cell_type": "code",
   "execution_count": 264,
   "metadata": {},
   "outputs": [],
   "source": [
    "ADDRESS = \"https://openpowerlifting.gitlab.io/opl-csv/files/openpowerlifting-latest.zip\""
   ]
  },
  {
   "cell_type": "code",
   "execution_count": 265,
   "metadata": {},
   "outputs": [
    {
     "name": "stderr",
     "output_type": "stream",
     "text": [
      "/var/folders/tn/my7fmgyj3gx8811h_mwsw1mh0000gn/T/ipykernel_2167/1268291688.py:1: DtypeWarning: Columns (33,35,38) have mixed types. Specify dtype option on import or set low_memory=False.\n",
      "  df = pd.read_csv(extract_dataset(ADDRESS))\n"
     ]
    }
   ],
   "source": [
    "df = pd.read_csv(extract_dataset(ADDRESS))"
   ]
  },
  {
   "cell_type": "code",
   "execution_count": 266,
   "metadata": {},
   "outputs": [
    {
     "name": "stderr",
     "output_type": "stream",
     "text": [
      "/var/folders/tn/my7fmgyj3gx8811h_mwsw1mh0000gn/T/ipykernel_2167/1279690121.py:17: SettingWithCopyWarning: \n",
      "A value is trying to be set on a copy of a slice from a DataFrame.\n",
      "Try using .loc[row_indexer,col_indexer] = value instead\n",
      "\n",
      "See the caveats in the documentation: https://pandas.pydata.org/pandas-docs/stable/user_guide/indexing.html#returning-a-view-versus-a-copy\n",
      "  df_female[\"IPFWeightClassKg\"] = pd.cut(df_female[\"IPFWeightClassKg\"], bins = F_bins, labels = F_labels)\n",
      "/var/folders/tn/my7fmgyj3gx8811h_mwsw1mh0000gn/T/ipykernel_2167/1279690121.py:18: SettingWithCopyWarning: \n",
      "A value is trying to be set on a copy of a slice from a DataFrame.\n",
      "Try using .loc[row_indexer,col_indexer] = value instead\n",
      "\n",
      "See the caveats in the documentation: https://pandas.pydata.org/pandas-docs/stable/user_guide/indexing.html#returning-a-view-versus-a-copy\n",
      "  df_male['IPFWeightClassKg'] = pd.cut(df_male['IPFWeightClassKg'], bins = M_bins, labels = M_labels)\n"
     ]
    }
   ],
   "source": [
    "replace_lift_null_data(df)\n",
    "checks_best_lift(df)\n",
    "calculate_total(df)\n",
    "check_qualification(df)\n",
    "df = rearrange_column(df, \"Place\")\n",
    "df = drop_null_weights(df)\n",
    "df = redefine_weight_classes(df)"
   ]
  },
  {
   "cell_type": "code",
   "execution_count": 285,
   "metadata": {},
   "outputs": [],
   "source": [
    "fill_unknown_values(df, \"Division\", \"Unknown\")\n",
    "fill_unknown_values(df, \"MeetName\", \"UnknownMeetName\")\n",
    "fill_unknown_values(df, \"MeetTown\", \"UnknownMeetTown\")\n",
    "fill_unknown_values(df, \"MeetState\", \"UnknownMeetState\")\n",
    "fill_unknown_values(df, \"MeetCountry\", \"UnknownMeetCountry\")\n",
    "df = df.loc[df[\"IPFWeightClassKg\"].notna()]\n",
    "fill_unknown_values(df, \"Tested\", \"No\")\n",
    "assume_federation(df)\n",
    "fill_unknown_values(df, \"State\", \"N/A\")\n",
    "fill_unknown_values(df, \"Country\", \"NotStated\")\n",
    "fill_lift_scores(df)"
   ]
  },
  {
   "cell_type": "code",
   "execution_count": 268,
   "metadata": {},
   "outputs": [],
   "source": [
    "def redefine_age_classes(df):\n",
    "    ipf_age_classes = {\n",
    "        \"sub-junior\": \"18-\",\n",
    "        \"junior\": \"19-23\",\n",
    "        \"open\": \"24-39\",\n",
    "        \"masters 1\": \"40-49\",\n",
    "        \"masters 2\": \"50-59\",\n",
    "        \"masters 3\": \"60-69\",\n",
    "        \"masters 4\": \"70+,\"\n",
    "    }\n",
    "    pass"
   ]
  },
  {
   "cell_type": "code",
   "execution_count": 315,
   "metadata": {},
   "outputs": [
    {
     "name": "stdout",
     "output_type": "stream",
     "text": [
      "<class 'pandas.core.frame.DataFrame'>\n",
      "Int64Index: 2809555 entries, 0 to 2865620\n",
      "Data columns (total 15 columns):\n",
      " #   Column          Non-Null Count    Dtype  \n",
      "---  ------          --------------    -----  \n",
      " 0   Name            2809555 non-null  object \n",
      " 1   Sex             2809555 non-null  object \n",
      " 2   Event           2809555 non-null  object \n",
      " 3   Equipment       2809555 non-null  object \n",
      " 4   Age             1789184 non-null  float64\n",
      " 5   AgeClass        2038074 non-null  object \n",
      " 6   BirthYearClass  1855780 non-null  object \n",
      " 7   Division        2809555 non-null  object \n",
      " 8   BodyweightKg    2809555 non-null  float64\n",
      " 9   WeightClassKg   2809555 non-null  object \n",
      " 10  Squat1Kg        2809555 non-null  float64\n",
      " 11  Squat2Kg        2809555 non-null  float64\n",
      " 12  Squat3Kg        2809555 non-null  float64\n",
      " 13  Squat4Kg        2809555 non-null  float64\n",
      " 14  Best3SquatKg    2809555 non-null  float64\n",
      "dtypes: float64(7), object(8)\n",
      "memory usage: 343.0+ MB\n"
     ]
    }
   ],
   "source": [
    "df.iloc[:,:15].info(verbose=True, show_counts=True)"
   ]
  },
  {
   "cell_type": "code",
   "execution_count": 316,
   "metadata": {},
   "outputs": [
    {
     "data": {
      "text/html": [
       "<div>\n",
       "<style scoped>\n",
       "    .dataframe tbody tr th:only-of-type {\n",
       "        vertical-align: middle;\n",
       "    }\n",
       "\n",
       "    .dataframe tbody tr th {\n",
       "        vertical-align: top;\n",
       "    }\n",
       "\n",
       "    .dataframe thead th {\n",
       "        text-align: right;\n",
       "    }\n",
       "</style>\n",
       "<table border=\"1\" class=\"dataframe\">\n",
       "  <thead>\n",
       "    <tr style=\"text-align: right;\">\n",
       "      <th></th>\n",
       "      <th>Name</th>\n",
       "      <th>Sex</th>\n",
       "      <th>Event</th>\n",
       "      <th>Age</th>\n",
       "      <th>AgeClass</th>\n",
       "      <th>BirthYearClass</th>\n",
       "    </tr>\n",
       "  </thead>\n",
       "  <tbody>\n",
       "    <tr>\n",
       "      <th>0</th>\n",
       "      <td>Alona Vladi</td>\n",
       "      <td>F</td>\n",
       "      <td>SBD</td>\n",
       "      <td>33.0</td>\n",
       "      <td>24-34</td>\n",
       "      <td>24-39</td>\n",
       "    </tr>\n",
       "    <tr>\n",
       "      <th>1</th>\n",
       "      <td>Galina Solovyanova</td>\n",
       "      <td>F</td>\n",
       "      <td>SBD</td>\n",
       "      <td>43.0</td>\n",
       "      <td>40-44</td>\n",
       "      <td>40-49</td>\n",
       "    </tr>\n",
       "    <tr>\n",
       "      <th>7</th>\n",
       "      <td>Tatyana Altunina</td>\n",
       "      <td>F</td>\n",
       "      <td>SBD</td>\n",
       "      <td>26.0</td>\n",
       "      <td>24-34</td>\n",
       "      <td>24-39</td>\n",
       "    </tr>\n",
       "    <tr>\n",
       "      <th>9</th>\n",
       "      <td>Ekaterina Glukhova</td>\n",
       "      <td>F</td>\n",
       "      <td>SBD</td>\n",
       "      <td>25.5</td>\n",
       "      <td>24-34</td>\n",
       "      <td>24-39</td>\n",
       "    </tr>\n",
       "    <tr>\n",
       "      <th>19</th>\n",
       "      <td>Galina Nesterova</td>\n",
       "      <td>F</td>\n",
       "      <td>D</td>\n",
       "      <td>19.0</td>\n",
       "      <td>18-19</td>\n",
       "      <td>19-23</td>\n",
       "    </tr>\n",
       "    <tr>\n",
       "      <th>...</th>\n",
       "      <td>...</td>\n",
       "      <td>...</td>\n",
       "      <td>...</td>\n",
       "      <td>...</td>\n",
       "      <td>...</td>\n",
       "      <td>...</td>\n",
       "    </tr>\n",
       "    <tr>\n",
       "      <th>2865616</th>\n",
       "      <td>Jari Martikainen</td>\n",
       "      <td>M</td>\n",
       "      <td>SBD</td>\n",
       "      <td>40.5</td>\n",
       "      <td>40-44</td>\n",
       "      <td>40-49</td>\n",
       "    </tr>\n",
       "    <tr>\n",
       "      <th>2865617</th>\n",
       "      <td>Ryan Stinn</td>\n",
       "      <td>M</td>\n",
       "      <td>SBD</td>\n",
       "      <td>34.5</td>\n",
       "      <td>24-34</td>\n",
       "      <td>24-39</td>\n",
       "    </tr>\n",
       "    <tr>\n",
       "      <th>2865618</th>\n",
       "      <td>Eumenes Souza</td>\n",
       "      <td>M</td>\n",
       "      <td>SBD</td>\n",
       "      <td>43.5</td>\n",
       "      <td>40-44</td>\n",
       "      <td>40-49</td>\n",
       "    </tr>\n",
       "    <tr>\n",
       "      <th>2865619</th>\n",
       "      <td>Jewgenij Kondraschow</td>\n",
       "      <td>M</td>\n",
       "      <td>SBD</td>\n",
       "      <td>32.5</td>\n",
       "      <td>24-34</td>\n",
       "      <td>24-39</td>\n",
       "    </tr>\n",
       "    <tr>\n",
       "      <th>2865620</th>\n",
       "      <td>Hans Magne Bårtvedt</td>\n",
       "      <td>M</td>\n",
       "      <td>SBD</td>\n",
       "      <td>32.5</td>\n",
       "      <td>24-34</td>\n",
       "      <td>24-39</td>\n",
       "    </tr>\n",
       "  </tbody>\n",
       "</table>\n",
       "<p>2809555 rows × 6 columns</p>\n",
       "</div>"
      ],
      "text/plain": [
       "                         Name Sex Event   Age AgeClass BirthYearClass\n",
       "0                 Alona Vladi   F   SBD  33.0    24-34          24-39\n",
       "1          Galina Solovyanova   F   SBD  43.0    40-44          40-49\n",
       "7            Tatyana Altunina   F   SBD  26.0    24-34          24-39\n",
       "9          Ekaterina Glukhova   F   SBD  25.5    24-34          24-39\n",
       "19           Galina Nesterova   F     D  19.0    18-19          19-23\n",
       "...                       ...  ..   ...   ...      ...            ...\n",
       "2865616      Jari Martikainen   M   SBD  40.5    40-44          40-49\n",
       "2865617            Ryan Stinn   M   SBD  34.5    24-34          24-39\n",
       "2865618         Eumenes Souza   M   SBD  43.5    40-44          40-49\n",
       "2865619  Jewgenij Kondraschow   M   SBD  32.5    24-34          24-39\n",
       "2865620   Hans Magne Bårtvedt   M   SBD  32.5    24-34          24-39\n",
       "\n",
       "[2809555 rows x 6 columns]"
      ]
     },
     "execution_count": 316,
     "metadata": {},
     "output_type": "execute_result"
    }
   ],
   "source": [
    "df[[\"Name\", \"Sex\", \"Event\", \"Age\", \"AgeClass\", \"BirthYearClass\"]]"
   ]
  },
  {
   "cell_type": "code",
   "execution_count": 322,
   "metadata": {},
   "outputs": [
    {
     "data": {
      "text/html": [
       "<div>\n",
       "<style scoped>\n",
       "    .dataframe tbody tr th:only-of-type {\n",
       "        vertical-align: middle;\n",
       "    }\n",
       "\n",
       "    .dataframe tbody tr th {\n",
       "        vertical-align: top;\n",
       "    }\n",
       "\n",
       "    .dataframe thead th {\n",
       "        text-align: right;\n",
       "    }\n",
       "</style>\n",
       "<table border=\"1\" class=\"dataframe\">\n",
       "  <thead>\n",
       "    <tr style=\"text-align: right;\">\n",
       "      <th></th>\n",
       "      <th>AgeClass</th>\n",
       "      <th>BirthYearClass</th>\n",
       "    </tr>\n",
       "  </thead>\n",
       "  <tbody>\n",
       "    <tr>\n",
       "      <th>0</th>\n",
       "      <td>24-34</td>\n",
       "      <td>24-39</td>\n",
       "    </tr>\n",
       "    <tr>\n",
       "      <th>1</th>\n",
       "      <td>40-44</td>\n",
       "      <td>40-49</td>\n",
       "    </tr>\n",
       "    <tr>\n",
       "      <th>7</th>\n",
       "      <td>24-34</td>\n",
       "      <td>24-39</td>\n",
       "    </tr>\n",
       "    <tr>\n",
       "      <th>9</th>\n",
       "      <td>24-34</td>\n",
       "      <td>24-39</td>\n",
       "    </tr>\n",
       "    <tr>\n",
       "      <th>19</th>\n",
       "      <td>18-19</td>\n",
       "      <td>19-23</td>\n",
       "    </tr>\n",
       "    <tr>\n",
       "      <th>...</th>\n",
       "      <td>...</td>\n",
       "      <td>...</td>\n",
       "    </tr>\n",
       "    <tr>\n",
       "      <th>2865616</th>\n",
       "      <td>40-44</td>\n",
       "      <td>40-49</td>\n",
       "    </tr>\n",
       "    <tr>\n",
       "      <th>2865617</th>\n",
       "      <td>24-34</td>\n",
       "      <td>24-39</td>\n",
       "    </tr>\n",
       "    <tr>\n",
       "      <th>2865618</th>\n",
       "      <td>40-44</td>\n",
       "      <td>40-49</td>\n",
       "    </tr>\n",
       "    <tr>\n",
       "      <th>2865619</th>\n",
       "      <td>24-34</td>\n",
       "      <td>24-39</td>\n",
       "    </tr>\n",
       "    <tr>\n",
       "      <th>2865620</th>\n",
       "      <td>24-34</td>\n",
       "      <td>24-39</td>\n",
       "    </tr>\n",
       "  </tbody>\n",
       "</table>\n",
       "<p>1811659 rows × 2 columns</p>\n",
       "</div>"
      ],
      "text/plain": [
       "        AgeClass BirthYearClass\n",
       "0          24-34          24-39\n",
       "1          40-44          40-49\n",
       "7          24-34          24-39\n",
       "9          24-34          24-39\n",
       "19         18-19          19-23\n",
       "...          ...            ...\n",
       "2865616    40-44          40-49\n",
       "2865617    24-34          24-39\n",
       "2865618    40-44          40-49\n",
       "2865619    24-34          24-39\n",
       "2865620    24-34          24-39\n",
       "\n",
       "[1811659 rows x 2 columns]"
      ]
     },
     "execution_count": 322,
     "metadata": {},
     "output_type": "execute_result"
    }
   ],
   "source": [
    "df.loc[(df[\"AgeClass\"].notna() & (df[\"BirthYearClass\"]).notna())][[\"AgeClass\", \"BirthYearClass\"]]"
   ]
  },
  {
   "cell_type": "code",
   "execution_count": 321,
   "metadata": {},
   "outputs": [
    {
     "data": {
      "text/plain": [
       "array(['24-39', '40-49', '19-23', '14-18', nan, '70-999', '50-59',\n",
       "       '60-69'], dtype=object)"
      ]
     },
     "execution_count": 321,
     "metadata": {},
     "output_type": "execute_result"
    }
   ],
   "source": [
    "df[\"BirthYearClass\"].unique()"
   ]
  },
  {
   "cell_type": "code",
   "execution_count": null,
   "metadata": {},
   "outputs": [],
   "source": []
  }
 ],
 "metadata": {
  "kernelspec": {
   "display_name": "Python 3.10.8 64-bit",
   "language": "python",
   "name": "python3"
  },
  "language_info": {
   "codemirror_mode": {
    "name": "ipython",
    "version": 3
   },
   "file_extension": ".py",
   "mimetype": "text/x-python",
   "name": "python",
   "nbconvert_exporter": "python",
   "pygments_lexer": "ipython3",
   "version": "3.10.8"
  },
  "orig_nbformat": 4,
  "vscode": {
   "interpreter": {
    "hash": "b0fa6594d8f4cbf19f97940f81e996739fb7646882a419484c72d19e05852a7e"
   }
  }
 },
 "nbformat": 4,
 "nbformat_minor": 2
}
