{
 "cells": [
  {
   "cell_type": "code",
   "execution_count": 2,
   "metadata": {},
   "outputs": [],
   "source": [
    "import pandas as pd\n",
    "import numpy as np\n",
    "from extract import *"
   ]
  },
  {
   "cell_type": "code",
   "execution_count": 3,
   "metadata": {},
   "outputs": [],
   "source": [
    "from clean import *"
   ]
  },
  {
   "cell_type": "code",
   "execution_count": 4,
   "metadata": {},
   "outputs": [
    {
     "name": "stderr",
     "output_type": "stream",
     "text": [
      "/var/folders/tn/my7fmgyj3gx8811h_mwsw1mh0000gn/T/ipykernel_13791/987062614.py:3: DtypeWarning: Columns (33,35,38) have mixed types. Specify dtype option on import or set low_memory=False.\n",
      "  df = pd.read_csv(extract_dataset(ADDRESS))\n"
     ]
    }
   ],
   "source": [
    "ADDRESS = \"https://openpowerlifting.gitlab.io/opl-csv/files/openpowerlifting-latest.zip\"\n",
    "\n",
    "df = pd.read_csv(extract_dataset(ADDRESS))"
   ]
  },
  {
   "cell_type": "code",
   "execution_count": 5,
   "metadata": {},
   "outputs": [
    {
     "name": "stderr",
     "output_type": "stream",
     "text": [
      "/Users/wlodarczyk/PROJECTS/PowerliftingVisuals/assets/clean.py:34: SettingWithCopyWarning: \n",
      "A value is trying to be set on a copy of a slice from a DataFrame.\n",
      "Try using .loc[row_indexer,col_indexer] = value instead\n",
      "\n",
      "See the caveats in the documentation: https://pandas.pydata.org/pandas-docs/stable/user_guide/indexing.html#returning-a-view-versus-a-copy\n",
      "  df[\"ValidComp\"] = df.apply(lambda row: True if (str.isdigit(row[\"Place\"]) and row[\"TotalKg\"] != 0) else False, axis=1)\n"
     ]
    }
   ],
   "source": [
    "# Fix Lift data\n",
    "\"\"\"Fill in null data for non-completed lifts for all attempts of all lifts\"\"\"\n",
    "replace_lift_null_data(df)\n",
    "\n",
    "\"\"\"Properly returns best lift for each respective lift\"\"\"\n",
    "checks_best_lift(df)\n",
    "\n",
    "\"\"\"Calculates total for all three lifts\"\"\"\n",
    "calculate_total(df)\n",
    "\n",
    "\"\"\"Returns boolean for new column: 'ValidComp' if non-zero total and qualified i.e. no disqualifications, not showing up, failing all lifts, etc.\"\"\"\n",
    "df = validate_comp(df)"
   ]
  },
  {
   "cell_type": "code",
   "execution_count": 6,
   "metadata": {},
   "outputs": [
    {
     "name": "stderr",
     "output_type": "stream",
     "text": [
      "/Users/wlodarczyk/PROJECTS/PowerliftingVisuals/assets/clean.py:94: SettingWithCopyWarning: \n",
      "A value is trying to be set on a copy of a slice from a DataFrame.\n",
      "Try using .loc[row_indexer,col_indexer] = value instead\n",
      "\n",
      "See the caveats in the documentation: https://pandas.pydata.org/pandas-docs/stable/user_guide/indexing.html#returning-a-view-versus-a-copy\n",
      "  df_female[\"IPFWeightClassKg\"] = pd.cut(df_female[\"IPFWeightClassKg\"], bins = F_bins, labels = F_labels)\n",
      "/Users/wlodarczyk/PROJECTS/PowerliftingVisuals/assets/clean.py:95: SettingWithCopyWarning: \n",
      "A value is trying to be set on a copy of a slice from a DataFrame.\n",
      "Try using .loc[row_indexer,col_indexer] = value instead\n",
      "\n",
      "See the caveats in the documentation: https://pandas.pydata.org/pandas-docs/stable/user_guide/indexing.html#returning-a-view-versus-a-copy\n",
      "  df_male['IPFWeightClassKg'] = pd.cut(df_male['IPFWeightClassKg'], bins = M_bins, labels = M_labels)\n"
     ]
    }
   ],
   "source": [
    "# Fix Weight data\n",
    "\"\"\"Removes rows where no WeightClass nor Bodyweight are available\"\"\"\n",
    "df = drop_null_weights(df)\n",
    "\n",
    "\"\"\"Fixes all entries where WeightClass was simply a '+', takes bodyweight and uses that as the weight class\"\"\"\n",
    "fix_plus_weightclass(df)\n",
    "\n",
    "\"\"\"Created IPF Weight Class, takes WeightClass entry and removes any plus signs, assigns them into bins according to IPF weight classes\"\"\"\n",
    "df = redefine_weight_classes(df)"
   ]
  },
  {
   "cell_type": "code",
   "execution_count": 7,
   "metadata": {},
   "outputs": [],
   "source": [
    "# Fix testing, metric and federation data\n",
    "\"\"\"If null values False, if Yes gives True\"\"\"\n",
    "assume_untested(df)\n",
    "\n",
    "\"\"\"Fill columns with no entry with placeholder\"\"\"\n",
    "fill_unknown_values(df)\n",
    "\n",
    "\"\"\"For lifters with no parent federation, assume federation they belong to is the parent federation\"\"\"\n",
    "assume_federation(df)\n",
    "\n",
    "\"\"\"All metrics with null values, taken to be zero\"\"\"\n",
    "fill_lift_scores(df)"
   ]
  },
  {
   "cell_type": "code",
   "execution_count": 10,
   "metadata": {},
   "outputs": [
    {
     "name": "stdout",
     "output_type": "stream",
     "text": [
      "<class 'pandas.core.frame.DataFrame'>\n",
      "Int64Index: 2847986 entries, 0 to 2865620\n",
      "Data columns (total 10 columns):\n",
      " #   Column          Non-Null Count    Dtype  \n",
      "---  ------          --------------    -----  \n",
      " 0   Name            2847986 non-null  object \n",
      " 1   Sex             2847986 non-null  object \n",
      " 2   Event           2847986 non-null  object \n",
      " 3   Equipment       2847986 non-null  object \n",
      " 4   Age             1810836 non-null  float64\n",
      " 5   AgeClass        2062294 non-null  object \n",
      " 6   BirthYearClass  1879353 non-null  object \n",
      " 7   Division        2847986 non-null  object \n",
      " 8   BodyweightKg    2828730 non-null  float64\n",
      " 9   WeightClassKg   2847986 non-null  object \n",
      "dtypes: float64(2), object(8)\n",
      "memory usage: 239.0+ MB\n"
     ]
    }
   ],
   "source": [
    "df.iloc[:,:10].info(verbose=True, show_counts=True)"
   ]
  },
  {
   "cell_type": "code",
   "execution_count": 9,
   "metadata": {},
   "outputs": [
    {
     "data": {
      "text/plain": [
       "Name                   Galyna Danylenko\n",
       "Sex                                   F\n",
       "Event                               SBD\n",
       "Equipment                         Wraps\n",
       "Age                                27.0\n",
       "AgeClass                          24-34\n",
       "BirthYearClass                    24-39\n",
       "Division                   Amateur Open\n",
       "BodyweightKg                       42.3\n",
       "WeightClassKg                        44\n",
       "Squat1Kg                          -95.0\n",
       "Squat2Kg                          -95.0\n",
       "Squat3Kg                           95.0\n",
       "Squat4Kg                            0.0\n",
       "Best3SquatKg                       95.0\n",
       "Bench1Kg                           35.0\n",
       "Bench2Kg                           37.5\n",
       "Bench3Kg                           40.0\n",
       "Bench4Kg                            0.0\n",
       "Best3BenchKg                       40.0\n",
       "Deadlift1Kg                        90.0\n",
       "Deadlift2Kg                       -95.0\n",
       "Deadlift3Kg                         0.0\n",
       "Deadlift4Kg                         0.0\n",
       "Best3DeadliftKg                    90.0\n",
       "TotalKg                           225.0\n",
       "Place                                 1\n",
       "Dots                             319.53\n",
       "Wilks                            325.02\n",
       "Glossbrenner                     292.94\n",
       "Goodlift                          69.81\n",
       "Tested                            False\n",
       "Country                         Ukraine\n",
       "State                               N/A\n",
       "Federation                          WPA\n",
       "ParentFederation                    WPA\n",
       "Date                         2018-05-17\n",
       "MeetCountry                     Ukraine\n",
       "MeetState                           N/A\n",
       "MeetTown                          Lutsk\n",
       "MeetName            World Championships\n",
       "ValidComp                          True\n",
       "IPFWeightClassKg                  43-47\n",
       "Name: 24164, dtype: object"
      ]
     },
     "execution_count": 9,
     "metadata": {},
     "output_type": "execute_result"
    }
   ],
   "source": [
    "df.iloc[4395]"
   ]
  },
  {
   "cell_type": "code",
   "execution_count": null,
   "metadata": {},
   "outputs": [],
   "source": []
  }
 ],
 "metadata": {
  "kernelspec": {
   "display_name": "Python 3.10.8 64-bit",
   "language": "python",
   "name": "python3"
  },
  "language_info": {
   "codemirror_mode": {
    "name": "ipython",
    "version": 3
   },
   "file_extension": ".py",
   "mimetype": "text/x-python",
   "name": "python",
   "nbconvert_exporter": "python",
   "pygments_lexer": "ipython3",
   "version": "3.10.8"
  },
  "orig_nbformat": 4,
  "vscode": {
   "interpreter": {
    "hash": "b0fa6594d8f4cbf19f97940f81e996739fb7646882a419484c72d19e05852a7e"
   }
  }
 },
 "nbformat": 4,
 "nbformat_minor": 2
}
